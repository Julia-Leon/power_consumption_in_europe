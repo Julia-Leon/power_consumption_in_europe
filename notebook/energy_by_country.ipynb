{
 "cells": [
  {
   "cell_type": "markdown",
   "id": "6a62a19b",
   "metadata": {},
   "source": [
    "# POWER CONSUMPTION IN EUROPE"
   ]
  },
  {
   "cell_type": "markdown",
   "id": "d152e902",
   "metadata": {},
   "source": [
    "### Import Libraries"
   ]
  },
  {
   "cell_type": "code",
   "execution_count": 1,
   "id": "f8aaae30",
   "metadata": {},
   "outputs": [],
   "source": [
    "import numpy as np\n",
    "import pandas as pd\n",
    "import matplotlib.pyplot as plt\n",
    "import seaborn as sns\n"
   ]
  },
  {
   "cell_type": "markdown",
   "id": "46f3f749",
   "metadata": {},
   "source": [
    "### Read Files"
   ]
  },
  {
   "cell_type": "code",
   "execution_count": 2,
   "id": "d640e7ad",
   "metadata": {},
   "outputs": [],
   "source": [
    "# Europe Demography 2011-2020 from Eurostat\n",
    "\n",
    "demo = pd.read_csv('../dataset/demo_pjan_1_Data.csv')"
   ]
  },
  {
   "cell_type": "code",
   "execution_count": 3,
   "id": "1c3e3556",
   "metadata": {},
   "outputs": [],
   "source": [
    "# Power Consumption by country 2015-2020 from Kaggle\n",
    "\n",
    "at = pd.read_csv('../dataset/at.csv')\n",
    "be = pd.read_csv('../dataset/be.csv')\n",
    "ch = pd.read_csv('../dataset/ch.csv')\n",
    "de = pd.read_csv('../dataset/de.csv')\n",
    "dk = pd.read_csv('../dataset/dk.csv')\n",
    "es = pd.read_csv('../dataset/es.csv')\n",
    "fr = pd.read_csv('../dataset/fr.csv')\n",
    "gb = pd.read_csv('../dataset/gb.csv')\n",
    "ir = pd.read_csv('../dataset/ie.csv')\n",
    "it = pd.read_csv('../dataset/it.csv')\n",
    "no = pd.read_csv('../dataset/no.csv')\n",
    "lu = pd.read_csv('../dataset/lu.csv')\n",
    "nl = pd.read_csv('../dataset/nl.csv')\n",
    "pt = pd.read_csv('../dataset/pt.csv')\n",
    "se = pd.read_csv('../dataset/se.csv')"
   ]
  },
  {
   "cell_type": "markdown",
   "id": "2b232cd8",
   "metadata": {},
   "source": [
    "### Data Cleaning and Wrangling"
   ]
  },
  {
   "cell_type": "markdown",
   "id": "4b8b012e",
   "metadata": {},
   "source": [
    "#### Drop duplicates"
   ]
  },
  {
   "cell_type": "code",
   "execution_count": 4,
   "id": "9a59204c",
   "metadata": {
    "scrolled": true
   },
   "outputs": [
    {
     "data": {
      "text/html": [
       "<div>\n",
       "<style scoped>\n",
       "    .dataframe tbody tr th:only-of-type {\n",
       "        vertical-align: middle;\n",
       "    }\n",
       "\n",
       "    .dataframe tbody tr th {\n",
       "        vertical-align: top;\n",
       "    }\n",
       "\n",
       "    .dataframe thead th {\n",
       "        text-align: right;\n",
       "    }\n",
       "</style>\n",
       "<table border=\"1\" class=\"dataframe\">\n",
       "  <thead>\n",
       "    <tr style=\"text-align: right;\">\n",
       "      <th></th>\n",
       "      <th>start</th>\n",
       "      <th>end</th>\n",
       "      <th>load</th>\n",
       "    </tr>\n",
       "  </thead>\n",
       "  <tbody>\n",
       "    <tr>\n",
       "      <th>0</th>\n",
       "      <td>2015-01-01 00:00:00+00:00</td>\n",
       "      <td>2015-01-01 01:00:00+00:00</td>\n",
       "      <td>14726.0</td>\n",
       "    </tr>\n",
       "    <tr>\n",
       "      <th>1</th>\n",
       "      <td>2015-01-01 01:00:00+00:00</td>\n",
       "      <td>2015-01-01 02:00:00+00:00</td>\n",
       "      <td>14485.0</td>\n",
       "    </tr>\n",
       "    <tr>\n",
       "      <th>2</th>\n",
       "      <td>2015-01-01 02:00:00+00:00</td>\n",
       "      <td>2015-01-01 03:00:00+00:00</td>\n",
       "      <td>14298.0</td>\n",
       "    </tr>\n",
       "    <tr>\n",
       "      <th>3</th>\n",
       "      <td>2015-01-01 03:00:00+00:00</td>\n",
       "      <td>2015-01-01 04:00:00+00:00</td>\n",
       "      <td>14249.0</td>\n",
       "    </tr>\n",
       "    <tr>\n",
       "      <th>4</th>\n",
       "      <td>2015-01-01 04:00:00+00:00</td>\n",
       "      <td>2015-01-01 05:00:00+00:00</td>\n",
       "      <td>14268.0</td>\n",
       "    </tr>\n",
       "    <tr>\n",
       "      <th>...</th>\n",
       "      <td>...</td>\n",
       "      <td>...</td>\n",
       "      <td>...</td>\n",
       "    </tr>\n",
       "    <tr>\n",
       "      <th>48882</th>\n",
       "      <td>2020-07-31 19:00:00+00:00</td>\n",
       "      <td>2020-07-31 20:00:00+00:00</td>\n",
       "      <td>11880.0</td>\n",
       "    </tr>\n",
       "    <tr>\n",
       "      <th>48883</th>\n",
       "      <td>2020-07-31 20:00:00+00:00</td>\n",
       "      <td>2020-07-31 21:00:00+00:00</td>\n",
       "      <td>11666.0</td>\n",
       "    </tr>\n",
       "    <tr>\n",
       "      <th>48884</th>\n",
       "      <td>2020-07-31 21:00:00+00:00</td>\n",
       "      <td>2020-07-31 22:00:00+00:00</td>\n",
       "      <td>10977.0</td>\n",
       "    </tr>\n",
       "    <tr>\n",
       "      <th>48885</th>\n",
       "      <td>2020-07-31 22:00:00+00:00</td>\n",
       "      <td>2020-07-31 23:00:00+00:00</td>\n",
       "      <td>10430.0</td>\n",
       "    </tr>\n",
       "    <tr>\n",
       "      <th>48886</th>\n",
       "      <td>2020-07-31 23:00:00+00:00</td>\n",
       "      <td>2020-08-01 00:00:00+00:00</td>\n",
       "      <td>10152.0</td>\n",
       "    </tr>\n",
       "  </tbody>\n",
       "</table>\n",
       "<p>48887 rows × 3 columns</p>\n",
       "</div>"
      ],
      "text/plain": [
       "                           start                        end     load\n",
       "0      2015-01-01 00:00:00+00:00  2015-01-01 01:00:00+00:00  14726.0\n",
       "1      2015-01-01 01:00:00+00:00  2015-01-01 02:00:00+00:00  14485.0\n",
       "2      2015-01-01 02:00:00+00:00  2015-01-01 03:00:00+00:00  14298.0\n",
       "3      2015-01-01 03:00:00+00:00  2015-01-01 04:00:00+00:00  14249.0\n",
       "4      2015-01-01 04:00:00+00:00  2015-01-01 05:00:00+00:00  14268.0\n",
       "...                          ...                        ...      ...\n",
       "48882  2020-07-31 19:00:00+00:00  2020-07-31 20:00:00+00:00  11880.0\n",
       "48883  2020-07-31 20:00:00+00:00  2020-07-31 21:00:00+00:00  11666.0\n",
       "48884  2020-07-31 21:00:00+00:00  2020-07-31 22:00:00+00:00  10977.0\n",
       "48885  2020-07-31 22:00:00+00:00  2020-07-31 23:00:00+00:00  10430.0\n",
       "48886  2020-07-31 23:00:00+00:00  2020-08-01 00:00:00+00:00  10152.0\n",
       "\n",
       "[48887 rows x 3 columns]"
      ]
     },
     "execution_count": 4,
     "metadata": {},
     "output_type": "execute_result"
    }
   ],
   "source": [
    "demo.drop_duplicates()\n",
    "\n",
    "at.drop_duplicates()\n",
    "be.drop_duplicates()\n",
    "ch.drop_duplicates()\n",
    "de.drop_duplicates()\n",
    "dk.drop_duplicates()\n",
    "es.drop_duplicates()\n",
    "fr.drop_duplicates()\n",
    "gb.drop_duplicates()\n",
    "ir.drop_duplicates()\n",
    "it.drop_duplicates()\n",
    "lu.drop_duplicates()\n",
    "nl.drop_duplicates()\n",
    "no.drop_duplicates()\n",
    "pt.drop_duplicates()\n",
    "se.drop_duplicates()"
   ]
  },
  {
   "cell_type": "markdown",
   "id": "cba72fa8",
   "metadata": {},
   "source": [
    "#### Data types"
   ]
  },
  {
   "cell_type": "code",
   "execution_count": 5,
   "id": "4fe07390",
   "metadata": {},
   "outputs": [
    {
     "name": "stdout",
     "output_type": "stream",
     "text": [
      "<class 'pandas.core.frame.DataFrame'>\n",
      "RangeIndex: 590 entries, 0 to 589\n",
      "Data columns (total 7 columns):\n",
      " #   Column              Non-Null Count  Dtype \n",
      "---  ------              --------------  ----- \n",
      " 0   TIME                590 non-null    int64 \n",
      " 1   GEO                 590 non-null    object\n",
      " 2   AGE                 590 non-null    object\n",
      " 3   SEX                 590 non-null    object\n",
      " 4   UNIT                590 non-null    object\n",
      " 5   Value               590 non-null    object\n",
      " 6   Flag and Footnotes  79 non-null     object\n",
      "dtypes: int64(1), object(6)\n",
      "memory usage: 32.4+ KB\n"
     ]
    }
   ],
   "source": [
    "demo.info()"
   ]
  },
  {
   "cell_type": "code",
   "execution_count": 6,
   "id": "385740ea",
   "metadata": {},
   "outputs": [
    {
     "name": "stdout",
     "output_type": "stream",
     "text": [
      "<class 'pandas.core.frame.DataFrame'>\n",
      "RangeIndex: 195744 entries, 0 to 195743\n",
      "Data columns (total 3 columns):\n",
      " #   Column  Non-Null Count   Dtype  \n",
      "---  ------  --------------   -----  \n",
      " 0   start   195744 non-null  object \n",
      " 1   end     195744 non-null  object \n",
      " 2   load    195744 non-null  float64\n",
      "dtypes: float64(1), object(2)\n",
      "memory usage: 4.5+ MB\n"
     ]
    }
   ],
   "source": [
    "at.info()"
   ]
  },
  {
   "cell_type": "code",
   "execution_count": 7,
   "id": "95a2664c",
   "metadata": {},
   "outputs": [
    {
     "name": "stdout",
     "output_type": "stream",
     "text": [
      "<class 'pandas.core.frame.DataFrame'>\n",
      "RangeIndex: 195744 entries, 0 to 195743\n",
      "Data columns (total 3 columns):\n",
      " #   Column  Non-Null Count   Dtype  \n",
      "---  ------  --------------   -----  \n",
      " 0   start   195744 non-null  object \n",
      " 1   end     195744 non-null  object \n",
      " 2   load    195744 non-null  float64\n",
      "dtypes: float64(1), object(2)\n",
      "memory usage: 4.5+ MB\n"
     ]
    }
   ],
   "source": [
    "be.info()"
   ]
  },
  {
   "cell_type": "code",
   "execution_count": 8,
   "id": "8cd3a16f",
   "metadata": {},
   "outputs": [
    {
     "name": "stdout",
     "output_type": "stream",
     "text": [
      "<class 'pandas.core.frame.DataFrame'>\n",
      "RangeIndex: 48936 entries, 0 to 48935\n",
      "Data columns (total 3 columns):\n",
      " #   Column  Non-Null Count  Dtype  \n",
      "---  ------  --------------  -----  \n",
      " 0   start   48936 non-null  object \n",
      " 1   end     48936 non-null  object \n",
      " 2   load    48936 non-null  float64\n",
      "dtypes: float64(1), object(2)\n",
      "memory usage: 1.1+ MB\n"
     ]
    }
   ],
   "source": [
    "ch.info()"
   ]
  },
  {
   "cell_type": "code",
   "execution_count": 9,
   "id": "edd297c7",
   "metadata": {},
   "outputs": [
    {
     "name": "stdout",
     "output_type": "stream",
     "text": [
      "<class 'pandas.core.frame.DataFrame'>\n",
      "RangeIndex: 198721 entries, 0 to 198720\n",
      "Data columns (total 3 columns):\n",
      " #   Column  Non-Null Count   Dtype  \n",
      "---  ------  --------------   -----  \n",
      " 0   start   198721 non-null  object \n",
      " 1   end     198721 non-null  object \n",
      " 2   load    198714 non-null  float64\n",
      "dtypes: float64(1), object(2)\n",
      "memory usage: 4.5+ MB\n"
     ]
    }
   ],
   "source": [
    "de.info()"
   ]
  },
  {
   "cell_type": "code",
   "execution_count": 10,
   "id": "4c8608af",
   "metadata": {},
   "outputs": [
    {
     "name": "stdout",
     "output_type": "stream",
     "text": [
      "<class 'pandas.core.frame.DataFrame'>\n",
      "RangeIndex: 48934 entries, 0 to 48933\n",
      "Data columns (total 3 columns):\n",
      " #   Column  Non-Null Count  Dtype  \n",
      "---  ------  --------------  -----  \n",
      " 0   start   48934 non-null  object \n",
      " 1   end     48934 non-null  object \n",
      " 2   load    48934 non-null  float64\n",
      "dtypes: float64(1), object(2)\n",
      "memory usage: 1.1+ MB\n"
     ]
    }
   ],
   "source": [
    "dk.info()"
   ]
  },
  {
   "cell_type": "code",
   "execution_count": 11,
   "id": "fd84f057",
   "metadata": {},
   "outputs": [
    {
     "name": "stdout",
     "output_type": "stream",
     "text": [
      "<class 'pandas.core.frame.DataFrame'>\n",
      "RangeIndex: 48902 entries, 0 to 48901\n",
      "Data columns (total 3 columns):\n",
      " #   Column  Non-Null Count  Dtype  \n",
      "---  ------  --------------  -----  \n",
      " 0   start   48902 non-null  object \n",
      " 1   end     48902 non-null  object \n",
      " 2   load    48902 non-null  float64\n",
      "dtypes: float64(1), object(2)\n",
      "memory usage: 1.1+ MB\n"
     ]
    }
   ],
   "source": [
    "es.info()"
   ]
  },
  {
   "cell_type": "code",
   "execution_count": 12,
   "id": "4b70f57f",
   "metadata": {},
   "outputs": [
    {
     "name": "stdout",
     "output_type": "stream",
     "text": [
      "<class 'pandas.core.frame.DataFrame'>\n",
      "RangeIndex: 48870 entries, 0 to 48869\n",
      "Data columns (total 3 columns):\n",
      " #   Column  Non-Null Count  Dtype  \n",
      "---  ------  --------------  -----  \n",
      " 0   start   48870 non-null  object \n",
      " 1   end     48870 non-null  object \n",
      " 2   load    48870 non-null  float64\n",
      "dtypes: float64(1), object(2)\n",
      "memory usage: 1.1+ MB\n"
     ]
    }
   ],
   "source": [
    "fr.info()"
   ]
  },
  {
   "cell_type": "code",
   "execution_count": 13,
   "id": "897cdd64",
   "metadata": {},
   "outputs": [
    {
     "name": "stdout",
     "output_type": "stream",
     "text": [
      "<class 'pandas.core.frame.DataFrame'>\n",
      "RangeIndex: 97814 entries, 0 to 97813\n",
      "Data columns (total 3 columns):\n",
      " #   Column  Non-Null Count  Dtype  \n",
      "---  ------  --------------  -----  \n",
      " 0   start   97814 non-null  object \n",
      " 1   end     97814 non-null  object \n",
      " 2   load    97814 non-null  float64\n",
      "dtypes: float64(1), object(2)\n",
      "memory usage: 2.2+ MB\n"
     ]
    }
   ],
   "source": [
    "gb.info()"
   ]
  },
  {
   "cell_type": "code",
   "execution_count": 14,
   "id": "987a1cdc",
   "metadata": {},
   "outputs": [
    {
     "name": "stdout",
     "output_type": "stream",
     "text": [
      "<class 'pandas.core.frame.DataFrame'>\n",
      "RangeIndex: 97148 entries, 0 to 97147\n",
      "Data columns (total 3 columns):\n",
      " #   Column  Non-Null Count  Dtype  \n",
      "---  ------  --------------  -----  \n",
      " 0   start   97148 non-null  object \n",
      " 1   end     97148 non-null  object \n",
      " 2   load    97148 non-null  float64\n",
      "dtypes: float64(1), object(2)\n",
      "memory usage: 2.2+ MB\n"
     ]
    }
   ],
   "source": [
    "ir.info()"
   ]
  },
  {
   "cell_type": "code",
   "execution_count": 15,
   "id": "ff19d07a",
   "metadata": {},
   "outputs": [
    {
     "name": "stdout",
     "output_type": "stream",
     "text": [
      "<class 'pandas.core.frame.DataFrame'>\n",
      "RangeIndex: 48936 entries, 0 to 48935\n",
      "Data columns (total 3 columns):\n",
      " #   Column  Non-Null Count  Dtype  \n",
      "---  ------  --------------  -----  \n",
      " 0   start   48936 non-null  object \n",
      " 1   end     48936 non-null  object \n",
      " 2   load    48936 non-null  float64\n",
      "dtypes: float64(1), object(2)\n",
      "memory usage: 1.1+ MB\n"
     ]
    }
   ],
   "source": [
    "it.info()"
   ]
  },
  {
   "cell_type": "code",
   "execution_count": 16,
   "id": "2784a88d",
   "metadata": {},
   "outputs": [
    {
     "name": "stdout",
     "output_type": "stream",
     "text": [
      "<class 'pandas.core.frame.DataFrame'>\n",
      "RangeIndex: 198721 entries, 0 to 198720\n",
      "Data columns (total 3 columns):\n",
      " #   Column  Non-Null Count   Dtype  \n",
      "---  ------  --------------   -----  \n",
      " 0   start   198721 non-null  object \n",
      " 1   end     198721 non-null  object \n",
      " 2   load    198593 non-null  float64\n",
      "dtypes: float64(1), object(2)\n",
      "memory usage: 4.5+ MB\n"
     ]
    }
   ],
   "source": [
    "lu.info()"
   ]
  },
  {
   "cell_type": "code",
   "execution_count": 17,
   "id": "96c61790",
   "metadata": {},
   "outputs": [
    {
     "name": "stdout",
     "output_type": "stream",
     "text": [
      "<class 'pandas.core.frame.DataFrame'>\n",
      "RangeIndex: 195744 entries, 0 to 195743\n",
      "Data columns (total 3 columns):\n",
      " #   Column  Non-Null Count   Dtype  \n",
      "---  ------  --------------   -----  \n",
      " 0   start   195744 non-null  object \n",
      " 1   end     195744 non-null  object \n",
      " 2   load    195744 non-null  float64\n",
      "dtypes: float64(1), object(2)\n",
      "memory usage: 4.5+ MB\n"
     ]
    }
   ],
   "source": [
    "nl.info()"
   ]
  },
  {
   "cell_type": "code",
   "execution_count": 18,
   "id": "8badf548",
   "metadata": {},
   "outputs": [
    {
     "name": "stdout",
     "output_type": "stream",
     "text": [
      "<class 'pandas.core.frame.DataFrame'>\n",
      "RangeIndex: 48819 entries, 0 to 48818\n",
      "Data columns (total 3 columns):\n",
      " #   Column  Non-Null Count  Dtype  \n",
      "---  ------  --------------  -----  \n",
      " 0   start   48819 non-null  object \n",
      " 1   end     48819 non-null  object \n",
      " 2   load    48819 non-null  float64\n",
      "dtypes: float64(1), object(2)\n",
      "memory usage: 1.1+ MB\n"
     ]
    }
   ],
   "source": [
    "no.info()"
   ]
  },
  {
   "cell_type": "code",
   "execution_count": 19,
   "id": "98477903",
   "metadata": {},
   "outputs": [
    {
     "name": "stdout",
     "output_type": "stream",
     "text": [
      "<class 'pandas.core.frame.DataFrame'>\n",
      "RangeIndex: 48936 entries, 0 to 48935\n",
      "Data columns (total 3 columns):\n",
      " #   Column  Non-Null Count  Dtype  \n",
      "---  ------  --------------  -----  \n",
      " 0   start   48936 non-null  object \n",
      " 1   end     48936 non-null  object \n",
      " 2   load    48936 non-null  float64\n",
      "dtypes: float64(1), object(2)\n",
      "memory usage: 1.1+ MB\n"
     ]
    }
   ],
   "source": [
    "pt.info()"
   ]
  },
  {
   "cell_type": "code",
   "execution_count": 20,
   "id": "0c41c897",
   "metadata": {
    "scrolled": true
   },
   "outputs": [
    {
     "name": "stdout",
     "output_type": "stream",
     "text": [
      "<class 'pandas.core.frame.DataFrame'>\n",
      "RangeIndex: 48887 entries, 0 to 48886\n",
      "Data columns (total 3 columns):\n",
      " #   Column  Non-Null Count  Dtype  \n",
      "---  ------  --------------  -----  \n",
      " 0   start   48887 non-null  object \n",
      " 1   end     48887 non-null  object \n",
      " 2   load    48887 non-null  float64\n",
      "dtypes: float64(1), object(2)\n",
      "memory usage: 1.1+ MB\n"
     ]
    }
   ],
   "source": [
    "se.info()"
   ]
  },
  {
   "cell_type": "markdown",
   "id": "48670318",
   "metadata": {},
   "source": [
    "### Demo\n",
    "\n",
    "- Data types\n",
    "    - change ``Value`` to numeric\n",
    "    - change ``TIME`` to datetime"
   ]
  },
  {
   "cell_type": "code",
   "execution_count": 21,
   "id": "3d61c83a",
   "metadata": {},
   "outputs": [],
   "source": [
    "demo['Value'] = pd.to_numeric(demo['Value'].apply(lambda x: x.replace(':', '').replace(',', '')))"
   ]
  },
  {
   "cell_type": "code",
   "execution_count": 22,
   "id": "929dbf9b",
   "metadata": {},
   "outputs": [],
   "source": [
    "demo['TIME'] = pd.to_datetime(demo['TIME'], format='%Y')"
   ]
  },
  {
   "cell_type": "code",
   "execution_count": 23,
   "id": "58f0598e",
   "metadata": {},
   "outputs": [
    {
     "name": "stdout",
     "output_type": "stream",
     "text": [
      "<class 'pandas.core.frame.DataFrame'>\n",
      "RangeIndex: 590 entries, 0 to 589\n",
      "Data columns (total 7 columns):\n",
      " #   Column              Non-Null Count  Dtype         \n",
      "---  ------              --------------  -----         \n",
      " 0   TIME                590 non-null    datetime64[ns]\n",
      " 1   GEO                 590 non-null    object        \n",
      " 2   AGE                 590 non-null    object        \n",
      " 3   SEX                 590 non-null    object        \n",
      " 4   UNIT                590 non-null    object        \n",
      " 5   Value               533 non-null    float64       \n",
      " 6   Flag and Footnotes  79 non-null     object        \n",
      "dtypes: datetime64[ns](1), float64(1), object(5)\n",
      "memory usage: 32.4+ KB\n"
     ]
    }
   ],
   "source": [
    "demo.info()"
   ]
  },
  {
   "cell_type": "markdown",
   "id": "38058940",
   "metadata": {},
   "source": [
    "- Drop columns ``AGE``, ``SEX``, ``UNIT`` and ``Flag and Footnotes``\n",
    "- Change name ``GEO`` for ``country``, ``TIME`` for ``year`` and ``Value`` for ``population``"
   ]
  },
  {
   "cell_type": "code",
   "execution_count": 24,
   "id": "bd150656",
   "metadata": {},
   "outputs": [],
   "source": [
    "demo = demo.drop(['AGE', 'SEX', 'UNIT', 'Flag and Footnotes'], axis=1)\n",
    "demo = demo.rename(columns={'GEO' : 'Country', 'TIME' : 'year', 'Value' : 'population'})"
   ]
  },
  {
   "cell_type": "markdown",
   "id": "1bd64a1f",
   "metadata": {},
   "source": [
    "- Select years from 2015 to 2020\n",
    "- Select countries"
   ]
  },
  {
   "cell_type": "code",
   "execution_count": 25,
   "id": "90a47eb7",
   "metadata": {},
   "outputs": [],
   "source": [
    "demo = demo.loc[demo['year']>'2014']"
   ]
  },
  {
   "cell_type": "code",
   "execution_count": 26,
   "id": "c62f2e25",
   "metadata": {},
   "outputs": [],
   "source": [
    "countries = ['Austria', 'Belgium', 'Switzerland', 'Germany', 'Denmark', 'Spain', 'France', 'United Kingdom', 'Ireland',\n",
    "             'Italy', 'Luxembourg', 'Netherlands', 'Norway', 'Portugal', 'Sweden']"
   ]
  },
  {
   "cell_type": "code",
   "execution_count": 27,
   "id": "2d57157e",
   "metadata": {},
   "outputs": [],
   "source": [
    "demo = demo[demo['Country'].isin(countries)]"
   ]
  },
  {
   "cell_type": "code",
   "execution_count": 28,
   "id": "fb303da8",
   "metadata": {},
   "outputs": [],
   "source": [
    "pop_country = demo.pivot(index='year', columns='Country', values='population').reset_index()"
   ]
  },
  {
   "cell_type": "code",
   "execution_count": 29,
   "id": "7706b9f5",
   "metadata": {},
   "outputs": [],
   "source": [
    "pop_country = pop_country.rename({'Austria' : 'At_pop', 'Belgium' : 'Be_pop', 'Switzerland': 'Ch_pop', 'Germany' :'De_pop',\n",
    "                                          'Denmark' :'Dk_pop', 'Spain' : 'Es_pop', 'France' :  'Fr_pop', 'United Kingdom' : 'UK_pop',\n",
    "                                          'Ireland' : 'Ir_pop', 'Italy' : 'It_pop', 'Luxembourg' : 'Lu_pop', 'Netherlands' : 'Nl_pop',\n",
    "                                          'Norway' : 'No_pop', 'Portugal' : 'Pt_pop', 'Sweden' : 'Se_pop'}, axis=1)"
   ]
  },
  {
   "cell_type": "code",
   "execution_count": 30,
   "id": "869affd6",
   "metadata": {},
   "outputs": [],
   "source": [
    "pop_country.to_csv('pop_country.csv', index=False)"
   ]
  },
  {
   "cell_type": "markdown",
   "id": "e65afad8",
   "metadata": {},
   "source": [
    "### Power Consumption\n",
    "\n",
    "\n",
    "- Clean null values for ``load`` in **Germany** and **Luxembourg**\n",
    "\n"
   ]
  },
  {
   "cell_type": "code",
   "execution_count": 31,
   "id": "9b7f1cdc",
   "metadata": {},
   "outputs": [],
   "source": [
    "de['load'].fillna(value=de['load'].mean(), inplace=True)\n",
    "lu['load'].fillna(value=lu['load'].mean(), inplace=True)"
   ]
  },
  {
   "cell_type": "markdown",
   "id": "92c3734f",
   "metadata": {},
   "source": [
    "- Change ``start`` to datetime\n",
    "- Drop ``end`` column\n",
    "- Change name ``load`` for ``_country name_``\n",
    "- Group by year in order to concatenate them"
   ]
  },
  {
   "cell_type": "code",
   "execution_count": 32,
   "id": "93c88d4b",
   "metadata": {},
   "outputs": [],
   "source": [
    "at['start'] = pd.to_datetime(at['start'])\n",
    "at['year'] = pd.to_datetime(at['start']).dt.year\n",
    "at.drop(['end', 'start'], axis=1)\n",
    "clean_at = at.groupby(['year']).sum()\n",
    "clean_at = clean_at.rename(columns={'load' : 'At_cons'})"
   ]
  },
  {
   "cell_type": "code",
   "execution_count": 33,
   "id": "0d2eaaee",
   "metadata": {},
   "outputs": [],
   "source": [
    "be['start'] = pd.to_datetime(be['start'])\n",
    "be['year'] = pd.to_datetime(be['start']).dt.year\n",
    "be.drop(['end', 'start'], axis=1)\n",
    "be.rename(columns={'load' : 'Belgium'})\n",
    "clean_be = be.groupby(['year']).sum()\n",
    "clean_be = clean_be.rename(columns={'load' : 'Be_cons'})"
   ]
  },
  {
   "cell_type": "code",
   "execution_count": 34,
   "id": "ffb134cd",
   "metadata": {},
   "outputs": [],
   "source": [
    "ch['start'] = pd.to_datetime(ch['start'])\n",
    "ch['year'] = pd.to_datetime(ch['start']).dt.year\n",
    "ch.drop(['end', 'start'], axis=1)\n",
    "clean_ch = ch.groupby(['year']).sum()\n",
    "clean_ch = clean_ch.rename(columns={'load' : 'Ch_cons'})"
   ]
  },
  {
   "cell_type": "code",
   "execution_count": 35,
   "id": "584de6ef",
   "metadata": {},
   "outputs": [],
   "source": [
    "de['start'] = pd.to_datetime(de['start'])\n",
    "de['year'] = pd.to_datetime(de['start']).dt.year\n",
    "de.drop(['end', 'start'], axis=1)\n",
    "clean_de = de.groupby(['year']).sum()\n",
    "clean_de = clean_de.rename(columns={'load' : 'De_cons'})"
   ]
  },
  {
   "cell_type": "code",
   "execution_count": 36,
   "id": "4fe465ab",
   "metadata": {},
   "outputs": [],
   "source": [
    "dk['start'] = pd.to_datetime(dk['start'])\n",
    "dk['year'] = pd.to_datetime(dk['start']).dt.year\n",
    "dk.drop(['end', 'start'], axis=1)\n",
    "clean_dk = dk.groupby(['year']).sum()\n",
    "clean_dk = clean_dk.rename(columns={'load' : 'Dk_cons'})"
   ]
  },
  {
   "cell_type": "code",
   "execution_count": 37,
   "id": "c092aa0d",
   "metadata": {},
   "outputs": [],
   "source": [
    "es['start'] = pd.to_datetime(es['start'])\n",
    "es['year'] = pd.to_datetime(es['start']).dt.year\n",
    "es.drop(['end', 'start'], axis=1)\n",
    "clean_es = es.groupby(['year']).sum()\n",
    "clean_es = clean_es.rename(columns={'load' : 'Es_cons'})"
   ]
  },
  {
   "cell_type": "code",
   "execution_count": 38,
   "id": "ee7d0dd9",
   "metadata": {},
   "outputs": [],
   "source": [
    "fr['start'] = pd.to_datetime(fr['start'])\n",
    "fr['year'] = pd.to_datetime(fr['start']).dt.year\n",
    "fr.drop(['end', 'start'], axis=1)\n",
    "clean_fr = fr.groupby(['year']).sum()\n",
    "clean_fr = clean_fr.rename(columns={'load' : 'Fr_cons'})"
   ]
  },
  {
   "cell_type": "code",
   "execution_count": 39,
   "id": "92d7ac60",
   "metadata": {},
   "outputs": [],
   "source": [
    "gb['start'] = pd.to_datetime(gb['start'])\n",
    "gb['year'] = pd.to_datetime(gb['start']).dt.year\n",
    "gb.drop(['end', 'start'], axis=1)\n",
    "clean_gb = gb.groupby(['year']).sum()\n",
    "clean_gb = clean_gb.rename(columns={'load' : 'UK_cons'})"
   ]
  },
  {
   "cell_type": "code",
   "execution_count": 40,
   "id": "b51e5b5e",
   "metadata": {},
   "outputs": [],
   "source": [
    "ir['start'] = pd.to_datetime(ir['start'])\n",
    "ir['year'] = pd.to_datetime(ir['start']).dt.year\n",
    "ir.drop(['end', 'start'], axis=1)\n",
    "clean_ir = ir.groupby(['year']).sum()\n",
    "clean_ir = clean_ir.rename(columns={'load' : 'Ir_cons'})"
   ]
  },
  {
   "cell_type": "code",
   "execution_count": 41,
   "id": "2970894f",
   "metadata": {},
   "outputs": [],
   "source": [
    "it['start'] = pd.to_datetime(it['start'])\n",
    "it['year'] = pd.to_datetime(it['start']).dt.year\n",
    "it.drop(['end', 'start'], axis=1)\n",
    "clean_it = it.groupby(['year']).sum()\n",
    "clean_it = clean_it.rename(columns={'load' : 'It_cons'})"
   ]
  },
  {
   "cell_type": "code",
   "execution_count": 42,
   "id": "b0ad0f29",
   "metadata": {},
   "outputs": [],
   "source": [
    "lu['start'] = pd.to_datetime(lu['start'])\n",
    "lu['year'] = pd.to_datetime(lu['start']).dt.year\n",
    "lu.drop(['end', 'start'], axis=1)\n",
    "clean_lu = lu.groupby(['year']).sum()\n",
    "clean_lu = clean_lu.rename(columns={'load' : 'Lu_cons'})"
   ]
  },
  {
   "cell_type": "code",
   "execution_count": 43,
   "id": "f09ed229",
   "metadata": {},
   "outputs": [],
   "source": [
    "nl['start'] = pd.to_datetime(nl['start'])\n",
    "nl['year'] = pd.to_datetime(nl['start']).dt.year\n",
    "nl.drop(['end', 'start'], axis=1)\n",
    "clean_nl = nl = nl.groupby(['year']).sum()\n",
    "clean_nl = clean_nl.rename(columns={'load' : 'Nl_cons'})"
   ]
  },
  {
   "cell_type": "code",
   "execution_count": 44,
   "id": "5c49725c",
   "metadata": {},
   "outputs": [],
   "source": [
    "no['start'] = pd.to_datetime(no['start'])\n",
    "no['year'] = pd.to_datetime(no['start']).dt.year\n",
    "no.drop(['end', 'start'], axis=1)\n",
    "clean_no = no.groupby(['year']).sum()\n",
    "clean_no = clean_no.rename(columns={'load' : 'No_cons'})"
   ]
  },
  {
   "cell_type": "code",
   "execution_count": 45,
   "id": "78ba7c27",
   "metadata": {},
   "outputs": [],
   "source": [
    "pt['start'] = pd.to_datetime(pt['start'])\n",
    "pt['year'] = pd.to_datetime(pt['start']).dt.year\n",
    "pt.drop(['end', 'start'], axis=1)\n",
    "clean_pt = pt.groupby(['year']).sum()\n",
    "clean_pt = clean_pt.rename(columns={'load' : 'Pt_cons'})"
   ]
  },
  {
   "cell_type": "code",
   "execution_count": 46,
   "id": "4e27980d",
   "metadata": {},
   "outputs": [],
   "source": [
    "se['start'] = pd.to_datetime(se['start'])\n",
    "se['year'] = pd.to_datetime(se['start']).dt.year\n",
    "se = se.drop(['end', 'start'], axis=1)\n",
    "clean_se = se.groupby(['year']).sum()\n",
    "clean_se = clean_se.rename(columns={'load' : 'Se_cons'})"
   ]
  },
  {
   "cell_type": "markdown",
   "id": "c6abc8e9",
   "metadata": {},
   "source": [
    "- Concatenate dataframes"
   ]
  },
  {
   "cell_type": "code",
   "execution_count": 47,
   "id": "4f008f9c",
   "metadata": {},
   "outputs": [],
   "source": [
    "eu_cons = pd.concat([clean_at, clean_be, clean_ch, clean_de, clean_dk, clean_es, clean_fr,\n",
    "                         clean_gb, clean_ir, clean_it, clean_lu, clean_nl, clean_no, clean_pt, clean_se], axis=1).reset_index()"
   ]
  },
  {
   "cell_type": "code",
   "execution_count": 48,
   "id": "98e8b430",
   "metadata": {},
   "outputs": [],
   "source": [
    "def mega_to_giga(value):\n",
    "    return round(value/1000, 2)"
   ]
  },
  {
   "cell_type": "code",
   "execution_count": 49,
   "id": "2305e4ef",
   "metadata": {},
   "outputs": [],
   "source": [
    "eu_cons[['At_cons', 'Be_cons', 'Ch_cons', 'De_cons', 'Dk_cons', 'Es_cons', 'Fr_cons', 'UK_cons', 'Ir_cons', 'It_cons',\n",
    "             'Lu_cons', 'Nl_cons', 'No_cons', 'Pt_cons',\n",
    "             'Se_cons']] = eu_cons[['At_cons', 'Be_cons', 'Ch_cons', 'De_cons', 'Dk_cons', 'Es_cons', 'Fr_cons', 'UK_cons', 'Ir_cons', 'It_cons',\n",
    "             'Lu_cons', 'Nl_cons', 'No_cons', 'Pt_cons', 'Se_cons']].apply(mega_to_giga)\n"
   ]
  },
  {
   "cell_type": "code",
   "execution_count": 50,
   "id": "1ff7e129",
   "metadata": {},
   "outputs": [],
   "source": [
    "eu_cons.to_csv('europe_power_consumption.csv', index=False)"
   ]
  },
  {
   "cell_type": "code",
   "execution_count": 51,
   "id": "dc85537f",
   "metadata": {},
   "outputs": [
    {
     "data": {
      "text/html": [
       "<div>\n",
       "<style scoped>\n",
       "    .dataframe tbody tr th:only-of-type {\n",
       "        vertical-align: middle;\n",
       "    }\n",
       "\n",
       "    .dataframe tbody tr th {\n",
       "        vertical-align: top;\n",
       "    }\n",
       "\n",
       "    .dataframe thead th {\n",
       "        text-align: right;\n",
       "    }\n",
       "</style>\n",
       "<table border=\"1\" class=\"dataframe\">\n",
       "  <thead>\n",
       "    <tr style=\"text-align: right;\">\n",
       "      <th></th>\n",
       "      <th>year</th>\n",
       "      <th>At_cons</th>\n",
       "      <th>Be_cons</th>\n",
       "      <th>Ch_cons</th>\n",
       "      <th>De_cons</th>\n",
       "      <th>Dk_cons</th>\n",
       "      <th>Es_cons</th>\n",
       "      <th>Fr_cons</th>\n",
       "      <th>UK_cons</th>\n",
       "      <th>Ir_cons</th>\n",
       "      <th>It_cons</th>\n",
       "      <th>Lu_cons</th>\n",
       "      <th>Nl_cons</th>\n",
       "      <th>No_cons</th>\n",
       "      <th>Pt_cons</th>\n",
       "      <th>Se_cons</th>\n",
       "    </tr>\n",
       "  </thead>\n",
       "  <tbody>\n",
       "    <tr>\n",
       "      <th>0</th>\n",
       "      <td>2015</td>\n",
       "      <td>236625.81</td>\n",
       "      <td>351986.16</td>\n",
       "      <td>56904.73</td>\n",
       "      <td>1917988.28</td>\n",
       "      <td>32819.04</td>\n",
       "      <td>247654.83</td>\n",
       "      <td>470012.92</td>\n",
       "      <td>652650.97</td>\n",
       "      <td>52529.79</td>\n",
       "      <td>288514.32</td>\n",
       "      <td>16983.13</td>\n",
       "      <td>391001.90</td>\n",
       "      <td>129005.56</td>\n",
       "      <td>48963.85</td>\n",
       "      <td>133218.72</td>\n",
       "    </tr>\n",
       "    <tr>\n",
       "      <th>1</th>\n",
       "      <td>2016</td>\n",
       "      <td>251107.74</td>\n",
       "      <td>347549.30</td>\n",
       "      <td>60234.51</td>\n",
       "      <td>1947987.45</td>\n",
       "      <td>32288.57</td>\n",
       "      <td>250411.68</td>\n",
       "      <td>477474.02</td>\n",
       "      <td>652718.89</td>\n",
       "      <td>53500.94</td>\n",
       "      <td>283262.97</td>\n",
       "      <td>17266.70</td>\n",
       "      <td>456014.90</td>\n",
       "      <td>132139.26</td>\n",
       "      <td>49269.93</td>\n",
       "      <td>138019.17</td>\n",
       "    </tr>\n",
       "    <tr>\n",
       "      <th>2</th>\n",
       "      <td>2017</td>\n",
       "      <td>254217.81</td>\n",
       "      <td>349335.12</td>\n",
       "      <td>59675.46</td>\n",
       "      <td>1968468.64</td>\n",
       "      <td>32468.82</td>\n",
       "      <td>252729.58</td>\n",
       "      <td>475934.94</td>\n",
       "      <td>602557.65</td>\n",
       "      <td>55248.99</td>\n",
       "      <td>291447.02</td>\n",
       "      <td>17226.30</td>\n",
       "      <td>455339.66</td>\n",
       "      <td>132888.54</td>\n",
       "      <td>49627.83</td>\n",
       "      <td>138118.44</td>\n",
       "    </tr>\n",
       "    <tr>\n",
       "      <th>3</th>\n",
       "      <td>2018</td>\n",
       "      <td>254593.38</td>\n",
       "      <td>349951.24</td>\n",
       "      <td>58914.55</td>\n",
       "      <td>1995551.64</td>\n",
       "      <td>33589.97</td>\n",
       "      <td>254539.71</td>\n",
       "      <td>470394.79</td>\n",
       "      <td>608979.48</td>\n",
       "      <td>57702.68</td>\n",
       "      <td>297252.84</td>\n",
       "      <td>15538.77</td>\n",
       "      <td>458883.96</td>\n",
       "      <td>135491.52</td>\n",
       "      <td>50903.76</td>\n",
       "      <td>138153.76</td>\n",
       "    </tr>\n",
       "    <tr>\n",
       "      <th>4</th>\n",
       "      <td>2019</td>\n",
       "      <td>252340.94</td>\n",
       "      <td>339796.76</td>\n",
       "      <td>57724.38</td>\n",
       "      <td>1961906.97</td>\n",
       "      <td>33540.03</td>\n",
       "      <td>249987.31</td>\n",
       "      <td>467000.41</td>\n",
       "      <td>594723.23</td>\n",
       "      <td>58066.49</td>\n",
       "      <td>294148.70</td>\n",
       "      <td>15302.15</td>\n",
       "      <td>455604.25</td>\n",
       "      <td>131708.79</td>\n",
       "      <td>50345.60</td>\n",
       "      <td>136396.37</td>\n",
       "    </tr>\n",
       "    <tr>\n",
       "      <th>5</th>\n",
       "      <td>2020</td>\n",
       "      <td>138968.03</td>\n",
       "      <td>186367.89</td>\n",
       "      <td>35494.14</td>\n",
       "      <td>1240820.36</td>\n",
       "      <td>19649.88</td>\n",
       "      <td>136760.28</td>\n",
       "      <td>256479.70</td>\n",
       "      <td>321130.81</td>\n",
       "      <td>32917.61</td>\n",
       "      <td>154995.55</td>\n",
       "      <td>9612.57</td>\n",
       "      <td>247225.26</td>\n",
       "      <td>77772.82</td>\n",
       "      <td>28061.53</td>\n",
       "      <td>77926.92</td>\n",
       "    </tr>\n",
       "  </tbody>\n",
       "</table>\n",
       "</div>"
      ],
      "text/plain": [
       "   year    At_cons    Be_cons   Ch_cons     De_cons   Dk_cons    Es_cons  \\\n",
       "0  2015  236625.81  351986.16  56904.73  1917988.28  32819.04  247654.83   \n",
       "1  2016  251107.74  347549.30  60234.51  1947987.45  32288.57  250411.68   \n",
       "2  2017  254217.81  349335.12  59675.46  1968468.64  32468.82  252729.58   \n",
       "3  2018  254593.38  349951.24  58914.55  1995551.64  33589.97  254539.71   \n",
       "4  2019  252340.94  339796.76  57724.38  1961906.97  33540.03  249987.31   \n",
       "5  2020  138968.03  186367.89  35494.14  1240820.36  19649.88  136760.28   \n",
       "\n",
       "     Fr_cons    UK_cons   Ir_cons    It_cons   Lu_cons    Nl_cons    No_cons  \\\n",
       "0  470012.92  652650.97  52529.79  288514.32  16983.13  391001.90  129005.56   \n",
       "1  477474.02  652718.89  53500.94  283262.97  17266.70  456014.90  132139.26   \n",
       "2  475934.94  602557.65  55248.99  291447.02  17226.30  455339.66  132888.54   \n",
       "3  470394.79  608979.48  57702.68  297252.84  15538.77  458883.96  135491.52   \n",
       "4  467000.41  594723.23  58066.49  294148.70  15302.15  455604.25  131708.79   \n",
       "5  256479.70  321130.81  32917.61  154995.55   9612.57  247225.26   77772.82   \n",
       "\n",
       "    Pt_cons    Se_cons  \n",
       "0  48963.85  133218.72  \n",
       "1  49269.93  138019.17  \n",
       "2  49627.83  138118.44  \n",
       "3  50903.76  138153.76  \n",
       "4  50345.60  136396.37  \n",
       "5  28061.53   77926.92  "
      ]
     },
     "execution_count": 51,
     "metadata": {},
     "output_type": "execute_result"
    }
   ],
   "source": [
    "eu_cons"
   ]
  },
  {
   "cell_type": "code",
   "execution_count": 52,
   "id": "dc09e690",
   "metadata": {},
   "outputs": [],
   "source": [
    "eu_pop = pd.read_csv('pop_country.csv')\n",
    "\n",
    "# I decided to read the new csv file because of the index, it is less confusing than the other one"
   ]
  },
  {
   "cell_type": "code",
   "execution_count": 53,
   "id": "d1c5405a",
   "metadata": {},
   "outputs": [
    {
     "data": {
      "text/html": [
       "<div>\n",
       "<style scoped>\n",
       "    .dataframe tbody tr th:only-of-type {\n",
       "        vertical-align: middle;\n",
       "    }\n",
       "\n",
       "    .dataframe tbody tr th {\n",
       "        vertical-align: top;\n",
       "    }\n",
       "\n",
       "    .dataframe thead th {\n",
       "        text-align: right;\n",
       "    }\n",
       "</style>\n",
       "<table border=\"1\" class=\"dataframe\">\n",
       "  <thead>\n",
       "    <tr style=\"text-align: right;\">\n",
       "      <th></th>\n",
       "      <th>index</th>\n",
       "      <th>year</th>\n",
       "      <th>At_cons</th>\n",
       "      <th>Be_cons</th>\n",
       "      <th>Ch_cons</th>\n",
       "      <th>De_cons</th>\n",
       "      <th>Dk_cons</th>\n",
       "      <th>Es_cons</th>\n",
       "      <th>Fr_cons</th>\n",
       "      <th>UK_cons</th>\n",
       "      <th>...</th>\n",
       "      <th>Ir_pop</th>\n",
       "      <th>It_pop</th>\n",
       "      <th>Lu_pop</th>\n",
       "      <th>Nl_pop</th>\n",
       "      <th>No_pop</th>\n",
       "      <th>Pt_pop</th>\n",
       "      <th>Es_pop</th>\n",
       "      <th>Se_pop</th>\n",
       "      <th>Ch_pop</th>\n",
       "      <th>UK_pop</th>\n",
       "    </tr>\n",
       "  </thead>\n",
       "  <tbody>\n",
       "    <tr>\n",
       "      <th>0</th>\n",
       "      <td>0</td>\n",
       "      <td>2015</td>\n",
       "      <td>236625.81</td>\n",
       "      <td>351986.16</td>\n",
       "      <td>56904.73</td>\n",
       "      <td>1917988.28</td>\n",
       "      <td>32819.04</td>\n",
       "      <td>247654.83</td>\n",
       "      <td>470012.92</td>\n",
       "      <td>652650.97</td>\n",
       "      <td>...</td>\n",
       "      <td>4677627.0</td>\n",
       "      <td>60795612.0</td>\n",
       "      <td>562958.0</td>\n",
       "      <td>16900726.0</td>\n",
       "      <td>5166493.0</td>\n",
       "      <td>10374822.0</td>\n",
       "      <td>46449565.0</td>\n",
       "      <td>9747355.0</td>\n",
       "      <td>8237666.0</td>\n",
       "      <td>64853393.0</td>\n",
       "    </tr>\n",
       "    <tr>\n",
       "      <th>1</th>\n",
       "      <td>1</td>\n",
       "      <td>2016</td>\n",
       "      <td>251107.74</td>\n",
       "      <td>347549.30</td>\n",
       "      <td>60234.51</td>\n",
       "      <td>1947987.45</td>\n",
       "      <td>32288.57</td>\n",
       "      <td>250411.68</td>\n",
       "      <td>477474.02</td>\n",
       "      <td>652718.89</td>\n",
       "      <td>...</td>\n",
       "      <td>4726286.0</td>\n",
       "      <td>60665551.0</td>\n",
       "      <td>576249.0</td>\n",
       "      <td>16979120.0</td>\n",
       "      <td>5210721.0</td>\n",
       "      <td>10341330.0</td>\n",
       "      <td>46440099.0</td>\n",
       "      <td>9851017.0</td>\n",
       "      <td>8327126.0</td>\n",
       "      <td>65379044.0</td>\n",
       "    </tr>\n",
       "    <tr>\n",
       "      <th>2</th>\n",
       "      <td>2</td>\n",
       "      <td>2017</td>\n",
       "      <td>254217.81</td>\n",
       "      <td>349335.12</td>\n",
       "      <td>59675.46</td>\n",
       "      <td>1968468.64</td>\n",
       "      <td>32468.82</td>\n",
       "      <td>252729.58</td>\n",
       "      <td>475934.94</td>\n",
       "      <td>602557.65</td>\n",
       "      <td>...</td>\n",
       "      <td>4784383.0</td>\n",
       "      <td>60589445.0</td>\n",
       "      <td>590667.0</td>\n",
       "      <td>17081507.0</td>\n",
       "      <td>5258317.0</td>\n",
       "      <td>10309573.0</td>\n",
       "      <td>46528024.0</td>\n",
       "      <td>9995153.0</td>\n",
       "      <td>8419550.0</td>\n",
       "      <td>65844142.0</td>\n",
       "    </tr>\n",
       "    <tr>\n",
       "      <th>3</th>\n",
       "      <td>3</td>\n",
       "      <td>2018</td>\n",
       "      <td>254593.38</td>\n",
       "      <td>349951.24</td>\n",
       "      <td>58914.55</td>\n",
       "      <td>1995551.64</td>\n",
       "      <td>33589.97</td>\n",
       "      <td>254539.71</td>\n",
       "      <td>470394.79</td>\n",
       "      <td>608979.48</td>\n",
       "      <td>...</td>\n",
       "      <td>4830392.0</td>\n",
       "      <td>60483973.0</td>\n",
       "      <td>602005.0</td>\n",
       "      <td>17181084.0</td>\n",
       "      <td>5295619.0</td>\n",
       "      <td>10291027.0</td>\n",
       "      <td>46658447.0</td>\n",
       "      <td>10120242.0</td>\n",
       "      <td>8484130.0</td>\n",
       "      <td>66273576.0</td>\n",
       "    </tr>\n",
       "    <tr>\n",
       "      <th>4</th>\n",
       "      <td>4</td>\n",
       "      <td>2019</td>\n",
       "      <td>252340.94</td>\n",
       "      <td>339796.76</td>\n",
       "      <td>57724.38</td>\n",
       "      <td>1961906.97</td>\n",
       "      <td>33540.03</td>\n",
       "      <td>249987.31</td>\n",
       "      <td>467000.41</td>\n",
       "      <td>594723.23</td>\n",
       "      <td>...</td>\n",
       "      <td>4904240.0</td>\n",
       "      <td>59816673.0</td>\n",
       "      <td>613894.0</td>\n",
       "      <td>17282163.0</td>\n",
       "      <td>5328212.0</td>\n",
       "      <td>10276617.0</td>\n",
       "      <td>46937060.0</td>\n",
       "      <td>10230185.0</td>\n",
       "      <td>8544527.0</td>\n",
       "      <td>66647112.0</td>\n",
       "    </tr>\n",
       "    <tr>\n",
       "      <th>5</th>\n",
       "      <td>5</td>\n",
       "      <td>2020</td>\n",
       "      <td>138968.03</td>\n",
       "      <td>186367.89</td>\n",
       "      <td>35494.14</td>\n",
       "      <td>1240820.36</td>\n",
       "      <td>19649.88</td>\n",
       "      <td>136760.28</td>\n",
       "      <td>256479.70</td>\n",
       "      <td>321130.81</td>\n",
       "      <td>...</td>\n",
       "      <td>4964440.0</td>\n",
       "      <td>59641488.0</td>\n",
       "      <td>626108.0</td>\n",
       "      <td>17407585.0</td>\n",
       "      <td>5367580.0</td>\n",
       "      <td>10295909.0</td>\n",
       "      <td>47332614.0</td>\n",
       "      <td>10327589.0</td>\n",
       "      <td>8606033.0</td>\n",
       "      <td>67025542.0</td>\n",
       "    </tr>\n",
       "  </tbody>\n",
       "</table>\n",
       "<p>6 rows × 32 columns</p>\n",
       "</div>"
      ],
      "text/plain": [
       "   index  year    At_cons    Be_cons   Ch_cons     De_cons   Dk_cons  \\\n",
       "0      0  2015  236625.81  351986.16  56904.73  1917988.28  32819.04   \n",
       "1      1  2016  251107.74  347549.30  60234.51  1947987.45  32288.57   \n",
       "2      2  2017  254217.81  349335.12  59675.46  1968468.64  32468.82   \n",
       "3      3  2018  254593.38  349951.24  58914.55  1995551.64  33589.97   \n",
       "4      4  2019  252340.94  339796.76  57724.38  1961906.97  33540.03   \n",
       "5      5  2020  138968.03  186367.89  35494.14  1240820.36  19649.88   \n",
       "\n",
       "     Es_cons    Fr_cons    UK_cons  ...     Ir_pop      It_pop    Lu_pop  \\\n",
       "0  247654.83  470012.92  652650.97  ...  4677627.0  60795612.0  562958.0   \n",
       "1  250411.68  477474.02  652718.89  ...  4726286.0  60665551.0  576249.0   \n",
       "2  252729.58  475934.94  602557.65  ...  4784383.0  60589445.0  590667.0   \n",
       "3  254539.71  470394.79  608979.48  ...  4830392.0  60483973.0  602005.0   \n",
       "4  249987.31  467000.41  594723.23  ...  4904240.0  59816673.0  613894.0   \n",
       "5  136760.28  256479.70  321130.81  ...  4964440.0  59641488.0  626108.0   \n",
       "\n",
       "       Nl_pop     No_pop      Pt_pop      Es_pop      Se_pop     Ch_pop  \\\n",
       "0  16900726.0  5166493.0  10374822.0  46449565.0   9747355.0  8237666.0   \n",
       "1  16979120.0  5210721.0  10341330.0  46440099.0   9851017.0  8327126.0   \n",
       "2  17081507.0  5258317.0  10309573.0  46528024.0   9995153.0  8419550.0   \n",
       "3  17181084.0  5295619.0  10291027.0  46658447.0  10120242.0  8484130.0   \n",
       "4  17282163.0  5328212.0  10276617.0  46937060.0  10230185.0  8544527.0   \n",
       "5  17407585.0  5367580.0  10295909.0  47332614.0  10327589.0  8606033.0   \n",
       "\n",
       "       UK_pop  \n",
       "0  64853393.0  \n",
       "1  65379044.0  \n",
       "2  65844142.0  \n",
       "3  66273576.0  \n",
       "4  66647112.0  \n",
       "5  67025542.0  \n",
       "\n",
       "[6 rows x 32 columns]"
      ]
     },
     "execution_count": 53,
     "metadata": {},
     "output_type": "execute_result"
    }
   ],
   "source": [
    "eu_cons_pop = pd.concat([eu_cons, eu_pop], axis=1).reset_index()\n",
    "eu_cons_pop.to_csv('eu_cons_pop.csv', index=False)\n",
    "eu_cons_pop"
   ]
  },
  {
   "cell_type": "markdown",
   "id": "8be5d705",
   "metadata": {},
   "source": [
    "### Visualisations\n",
    "For visualisations go to [Julia](https://public.tableau.com/app/profile/julia.leon4960/viz/PowerConsumptioninEurope/line_consyear)'s Tableau profile"
   ]
  }
 ],
 "metadata": {
  "kernelspec": {
   "display_name": "Python 3",
   "language": "python",
   "name": "python3"
  },
  "language_info": {
   "codemirror_mode": {
    "name": "ipython",
    "version": 3
   },
   "file_extension": ".py",
   "mimetype": "text/x-python",
   "name": "python",
   "nbconvert_exporter": "python",
   "pygments_lexer": "ipython3",
   "version": "3.8.10"
  }
 },
 "nbformat": 4,
 "nbformat_minor": 5
}
